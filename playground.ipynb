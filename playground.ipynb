{
 "cells": [
  {
   "cell_type": "code",
   "execution_count": 1,
   "metadata": {
    "collapsed": false
   },
   "outputs": [],
   "source": [
    "import numpy as np\n",
    "import random\n",
    "import cv2\n",
    "import chainer\n",
    "import chainer.functions as F\n",
    "from chainer.functions import caffe\n",
    "from IPython.display import Image"
   ]
  },
  {
   "cell_type": "code",
   "execution_count": 2,
   "metadata": {
    "collapsed": false
   },
   "outputs": [
    {
     "name": "stdout",
     "output_type": "stream",
     "text": [
      "CPU times: user 24.9 s, sys: 577 ms, total: 25.5 s\n",
      "Wall time: 25.8 s\n"
     ]
    }
   ],
   "source": [
    "file = open('./model/synset_words.txt')\n",
    "categories = [x[10:-1] for x in file.readlines()]\n",
    "%time caffeF = caffe.CaffeFunction('./model/bvlc_googlenet.caffemodel')"
   ]
  },
  {
   "cell_type": "code",
   "execution_count": 3,
   "metadata": {
    "collapsed": true
   },
   "outputs": [],
   "source": [
    "def forward(x, t):\n",
    "    y, = caffeF(inputs={'data': x},\n",
    "              outputs=['loss3/classifier'],\n",
    "              disable=['loss1/ave_pool', 'loss2/ave_pool'],\n",
    "              train=False)\n",
    "    return F.softmax_cross_entropy(y, t), F.accuracy(y, t)\n",
    "\n",
    "def predict(x):\n",
    "    y, = caffeF(inputs={'data': x},\n",
    "              outputs=['loss3/classifier'],\n",
    "              disable=['loss1/ave_pool', 'loss2/ave_pool'],\n",
    "              train=False)\n",
    "    return F.softmax(y)"
   ]
  },
  {
   "cell_type": "code",
   "execution_count": 4,
   "metadata": {
    "collapsed": true
   },
   "outputs": [],
   "source": [
    "# mean image\n",
    "in_size = 224\n",
    "mean_image = np.ndarray((3, 256, 256), dtype=np.float32)\n",
    "mean_image[0] = 104\n",
    "mean_image[1] = 117\n",
    "mean_image[2] = 123\n",
    "\n",
    "cropwidth = 256 - in_size\n",
    "start = cropwidth // 2\n",
    "stop = start + in_size\n",
    "mean_image = mean_image[:, start:stop, start:stop].copy()\n",
    "target_shape = (256, 256)\n",
    "output_side_length=256\n",
    "\n",
    "def prepare(image_path):\n",
    "    image = cv2.imread(image_path)\n",
    "    height, width, depth = image.shape\n",
    "    new_height = output_side_length\n",
    "    new_width = output_side_length\n",
    "    if height > width:\n",
    "        new_height = output_side_length * height / width\n",
    "    else:\n",
    "        new_width = output_side_length * width / height\n",
    "    resized_img = cv2.resize(image, (new_width, new_height))\n",
    "    height_offset = (new_height - output_side_length) / 2\n",
    "    width_offset = (new_width - output_side_length) / 2\n",
    "    image= resized_img[height_offset:height_offset + output_side_length,\n",
    "    width_offset:width_offset + output_side_length]\n",
    "    \n",
    "    image = image.transpose(2, 0, 1)\n",
    "    image = image[:, start:stop, start:stop].astype(np.float32)\n",
    "    image -= mean_image\n",
    "    \n",
    "    x_batch = np.ndarray((1, 3, in_size,in_size), dtype=np.float32)\n",
    "    x_batch[0]=image\n",
    "    return x_batch"
   ]
  },
  {
   "cell_type": "code",
   "execution_count": 18,
   "metadata": {
    "collapsed": false
   },
   "outputs": [
    {
     "data": {
      "image/jpeg": "[encoded data removed]",
      "text/plain": [
       "<IPython.core.display.Image object>"
      ]
     },
     "execution_count": 18,
     "metadata": {},
     "output_type": "execute_result"
    }
   ],
   "source": [
    "image_path = './data/bonsai/image_%04d.jpg' % random.randint(1,30)\n",
    "Image(filename=image_path)"
   ]
  },
  {
   "cell_type": "code",
   "execution_count": 19,
   "metadata": {
    "collapsed": false
   },
   "outputs": [
    {
     "name": "stdout",
     "output_type": "stream",
     "text": [
      "#01 | pot, flowerpot | 52.3%\n",
      "#02 | pedestal, plinth, footstall | 43.9%\n",
      "#03 | fountain |  0.7%\n",
      "#04 | altar |  0.6%\n",
      "#05 | caldron, cauldron |  0.5%\n",
      "#06 | brass, memorial tablet, plaque |  0.3%\n",
      "#07 | Egyptian cat |  0.2%\n",
      "#08 | ashcan, trash can, garbage can, wastebin, ash bin, ash-bin, ashbin, dustbin, trash barrel, trash bin |  0.2%\n",
      "#09 | sundial |  0.2%\n",
      "#10 | mortar |  0.1%\n"
     ]
    }
   ],
   "source": [
    "x = chainer.Variable(prepare(image_path), volatile=True)\n",
    "scores = predict(x)\n",
    "\n",
    "prediction = zip(scores.data[0].tolist(), categories)\n",
    "prediction.sort(cmp=lambda x, y: cmp(x[0], y[0]), reverse=True)\n",
    "for rank, (score, name) in enumerate(prediction[:10], start=1):\n",
    "    print('#%02d | %s | %4.1f%%' % (rank, name, score * 100))"
   ]
  },
  {
   "cell_type": "code",
   "execution_count": null,
   "metadata": {
    "collapsed": true
   },
   "outputs": [],
   "source": []
  }
 ],
 "metadata": {
  "kernelspec": {
   "display_name": "Python 2",
   "language": "python",
   "name": "python2"
  },
  "language_info": {
   "codemirror_mode": {
    "name": "ipython",
    "version": 2
   },
   "file_extension": ".py",
   "mimetype": "text/x-python",
   "name": "python",
   "nbconvert_exporter": "python",
   "pygments_lexer": "ipython2",
   "version": "2.7.10"
  }
 },
 "nbformat": 4,
 "nbformat_minor": 0
}
